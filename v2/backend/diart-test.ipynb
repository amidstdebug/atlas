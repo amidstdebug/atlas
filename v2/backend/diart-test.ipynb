{
 "cells": [
  {
   "cell_type": "code",
   "execution_count": 2,
   "id": "8ec05f21-181c-4de4-9875-c5a8f7fc5f55",
   "metadata": {
    "scrolled": true
   },
   "outputs": [
    {
     "name": "stderr",
     "output_type": "stream",
     "text": [
      "/home/raid/miniconda3/envs/nemo/lib/python3.10/site-packages/transformers/utils/generic.py:441: FutureWarning: `torch.utils._pytree._register_pytree_node` is deprecated. Please use `torch.utils._pytree.register_pytree_node` instead.\n",
      "  _torch_pytree._register_pytree_node(\n",
      "INFO:speechbrain.utils.quirks:Applied quirks (see `speechbrain.utils.quirks`): [disable_jit_profiling, allow_tf32]\n",
      "INFO:speechbrain.utils.quirks:Excluded quirks specified by the `SB_DISABLE_QUIRKS` environment (comma-separated list): []\n",
      "INFO:datasets:PyTorch version 2.6.0+cu126 available.\n",
      "[NeMo W 2025-03-03 10:48:47 nemo_logging:361] /home/raid/miniconda3/envs/nemo/lib/python3.10/site-packages/diart/audio.py:8: UserWarning: torchaudio._backend.set_audio_backend has been deprecated. With dispatcher enabled, this function is no-op. You can remove the function call.\n",
      "      torchaudio.set_audio_backend(\"soundfile\")\n",
      "    \n",
      "[NeMo W 2025-03-03 10:48:49 modelPT:176] If you intend to do training or fine-tuning, please call the ModelPT.setup_training_data() method and provide a valid configuration file to setup the train data loader.\n",
      "    Train config : \n",
      "    manifest_filepath: /manifests/combined_fisher_swbd_voxceleb12_librispeech/train.json\n",
      "    sample_rate: 16000\n",
      "    labels: null\n",
      "    batch_size: 64\n",
      "    shuffle: true\n",
      "    is_tarred: false\n",
      "    tarred_audio_filepaths: null\n",
      "    tarred_shard_strategy: scatter\n",
      "    augmentor:\n",
      "      noise:\n",
      "        manifest_path: /manifests/noise/rir_noise_manifest.json\n",
      "        prob: 0.5\n",
      "        min_snr_db: 0\n",
      "        max_snr_db: 15\n",
      "      speed:\n",
      "        prob: 0.5\n",
      "        sr: 16000\n",
      "        resample_type: kaiser_fast\n",
      "        min_speed_rate: 0.95\n",
      "        max_speed_rate: 1.05\n",
      "    num_workers: 15\n",
      "    pin_memory: true\n",
      "    \n",
      "[NeMo W 2025-03-03 10:48:49 modelPT:183] If you intend to do validation, please call the ModelPT.setup_validation_data() or ModelPT.setup_multiple_validation_data() method and provide a valid configuration file to setup the validation data loader(s). \n",
      "    Validation config : \n",
      "    manifest_filepath: /manifests/combined_fisher_swbd_voxceleb12_librispeech/dev.json\n",
      "    sample_rate: 16000\n",
      "    labels: null\n",
      "    batch_size: 128\n",
      "    shuffle: false\n",
      "    num_workers: 15\n",
      "    pin_memory: true\n",
      "    \n"
     ]
    },
    {
     "name": "stdout",
     "output_type": "stream",
     "text": [
      "[NeMo I 2025-03-03 10:48:49 features:305] PADDING: 16\n",
      "[NeMo I 2025-03-03 10:48:49 save_restore_connector:275] Model EncDecSpeakerLabelModel was successfully restored from /home/raid/.cache/huggingface/hub/models--nvidia--speakerverification_en_titanet_large/snapshots/0dc382f40121a5fbd34db10a2bb04d826c2be6a8/speakerverification_en_titanet_large.nemo.\n"
     ]
    }
   ],
   "source": [
    "import os\n",
    "from dotenv import load_dotenv\n",
    "\n",
    "load_dotenv()\n",
    "\n",
    "import numpy as np\n",
    "from pyannote.core import SlidingWindow, SlidingWindowFeature, Annotation, Timeline, Segment\n",
    "\n",
    "from diart.models import EmbeddingModel, SegmentationModel\n",
    "from diart import SpeakerDiarization, SpeakerDiarizationConfig\n",
    "\n",
    "from utils import load_audio\n",
    "\n",
    "hf_token = os.environ.get(\"HF_TOKEN\")\n",
    "\n",
    "segmentation = SegmentationModel.from_pretrained(\"pyannote/segmentation-3.0\", use_hf_token=hf_token)\n",
    "embedding = EmbeddingModel.from_pretrained(\"nvidia/speakerverification_en_titanet_large\", use_hf_token=hf_token)\n",
    "\n",
    "config = SpeakerDiarizationConfig(\n",
    "    segmentation=segmentation,\n",
    "    embedding=embedding\n",
    ")\n",
    "pipeline = SpeakerDiarization(config)"
   ]
  },
  {
   "cell_type": "code",
   "execution_count": 3,
   "id": "3e8d6771-99a5-4857-9c3e-1dfe287b23ff",
   "metadata": {},
   "outputs": [],
   "source": [
    "waveform, sample_rate = load_audio('toefl_eg.mp3')"
   ]
  },
  {
   "cell_type": "code",
   "execution_count": 4,
   "id": "a15fd255-0598-4f43-ae10-25947c79c6f1",
   "metadata": {},
   "outputs": [
    {
     "data": {
      "text/plain": [
       "5"
      ]
     },
     "execution_count": 4,
     "metadata": {},
     "output_type": "execute_result"
    }
   ],
   "source": [
    "pipeline.config.duration"
   ]
  },
  {
   "cell_type": "code",
   "execution_count": 5,
   "id": "5962c6be-61fb-4af6-befb-180d068a38dd",
   "metadata": {},
   "outputs": [
    {
     "data": {
      "text/plain": [
       "0.5"
      ]
     },
     "execution_count": 5,
     "metadata": {},
     "output_type": "execute_result"
    }
   ],
   "source": [
    "pipeline.config.step"
   ]
  },
  {
   "cell_type": "code",
   "execution_count": 6,
   "id": "2c03a461-b588-4680-803a-790a7c7de56b",
   "metadata": {},
   "outputs": [],
   "source": [
    "from tqdm.notebook import tqdm"
   ]
  },
  {
   "cell_type": "code",
   "execution_count": 25,
   "id": "147db0c8-db2b-466b-a4e0-abef8db14f72",
   "metadata": {},
   "outputs": [
    {
     "data": {
      "text/plain": [
       "(2, 4)"
      ]
     },
     "execution_count": 25,
     "metadata": {},
     "output_type": "execute_result"
    }
   ],
   "source": [
    "np.array((((123), (123), (123), (123)), ((123), (123), (123), (123)))).shape"
   ]
  },
  {
   "cell_type": "code",
   "execution_count": 7,
   "id": "8a851d88-8c32-4fd8-add3-aca14ce756ff",
   "metadata": {
    "scrolled": true
   },
   "outputs": [
    {
     "data": {
      "application/vnd.jupyter.widget-view+json": {
       "model_id": "38b3726ef72c4647977d2bf55b473e0b",
       "version_major": 2,
       "version_minor": 0
      },
      "text/plain": [
       "  0%|          | 0/500 [00:00<?, ?it/s]"
      ]
     },
     "metadata": {},
     "output_type": "display_data"
    },
    {
     "data": {
      "image/png": "[encoded data removed]",
      "text/plain": [
       "<pyannote.core.annotation.Annotation at 0x7fe0e53cac80>"
      ]
     },
     "execution_count": 7,
     "metadata": {},
     "output_type": "execute_result"
    }
   ],
   "source": [
    "# Create an empty annotation to store the combined results\n",
    "merged_annotation = Annotation()\n",
    "\n",
    "for i in tqdm(range(500)):\n",
    "    duration = int(pipeline.config.duration * pipeline.config.sample_rate)\n",
    "    step = int(pipeline.config.step * pipeline.config.sample_rate)\n",
    "    \n",
    "    audio = waveform[0, step*i:duration+step*i].unsqueeze(-1).numpy()\n",
    "    \n",
    "    # Obtain and format audio\n",
    "    sample_rate = pipeline.config.sample_rate\n",
    "    sliding_window = SlidingWindow(\n",
    "        start=i * pipeline.config.step,\n",
    "        duration=1.0 / sample_rate,\n",
    "        step=1.0 / sample_rate,\n",
    "    )\n",
    "    audio = SlidingWindowFeature(audio, sliding_window)\n",
    "    \n",
    "    # Get annotation for this chunk\n",
    "    annotation, audio_chunk = pipeline([audio])[0]\n",
    "\n",
    "    merged_annotation.update(annotation)\n",
    "\n",
    "    # print('updated')\n",
    "    # print(merged_annotation)\n",
    "    \n",
    "    # For the first chunk, simply use the full annotation\n",
    "    # if i == 0:\n",
    "    #     merged_annotation = annotation.copy()\n",
    "    # else:\n",
    "    #     for segment, track, label in annotation.itertracks(yield_label=True):\n",
    "    #         print(segment)\n",
    "    #         print(track)\n",
    "    #         print(label)\n",
    "        # For subsequent chunks, only consider the new part\n",
    "        # Calculate the segment representing the new portion\n",
    "        # new_segment_start = i * pipeline.config.step\n",
    "        # new_segment_end = new_segment_start + pipeline.config.step\n",
    "        # new_segment = Segment(new_segment_start, new_segment_end)\n",
    "\n",
    "        # print(new_segment)\n",
    "        \n",
    "        # # Extract annotations from the current chunk that fall within the new segment\n",
    "        # for segment, track, label in annotation.itertracks(yield_label=True):\n",
    "        #     # Check if this segment overlaps with our \"new\" section\n",
    "        #     segment_overlap = segment & new_segment\n",
    "        #     merged_annotation[segment_overlap, track] = label\n",
    "\n",
    "merged_annotation.support(0.05)"
   ]
  },
  {
   "cell_type": "code",
   "execution_count": 13,
   "id": "70223ac4-5aea-4882-bcec-945892f5c2de",
   "metadata": {},
   "outputs": [
    {
     "name": "stdout",
     "output_type": "stream",
     "text": [
      "SPEAKER <NA> 1 0.009 17.500 <NA> <NA> speaker0 <NA> <NA>\n",
      "SPEAKER <NA> 1 18.258 17.033 <NA> <NA> speaker0 <NA> <NA>\n",
      "SPEAKER <NA> 1 35.925 5.317 <NA> <NA> speaker0 <NA> <NA>\n",
      "SPEAKER <NA> 1 41.608 8.400 <NA> <NA> speaker0 <NA> <NA>\n",
      "SPEAKER <NA> 1 51.192 28.867 <NA> <NA> speaker0 <NA> <NA>\n",
      "SPEAKER <NA> 1 80.508 8.567 <NA> <NA> speaker0 <NA> <NA>\n",
      "SPEAKER <NA> 1 89.492 9.667 <NA> <NA> speaker0 <NA> <NA>\n",
      "SPEAKER <NA> 1 99.908 14.100 <NA> <NA> speaker0 <NA> <NA>\n",
      "SPEAKER <NA> 1 114.008 0.500 <NA> <NA> speaker1 <NA> <NA>\n",
      "SPEAKER <NA> 1 114.508 5.850 <NA> <NA> speaker0 <NA> <NA>\n",
      "SPEAKER <NA> 1 121.042 0.617 <NA> <NA> speaker0 <NA> <NA>\n",
      "SPEAKER <NA> 1 122.058 1.383 <NA> <NA> speaker0 <NA> <NA>\n",
      "SPEAKER <NA> 1 123.742 10.767 <NA> <NA> speaker0 <NA> <NA>\n",
      "SPEAKER <NA> 1 136.675 0.833 <NA> <NA> speaker1 <NA> <NA>\n",
      "SPEAKER <NA> 1 137.508 0.500 <NA> <NA> speaker0 <NA> <NA>\n",
      "SPEAKER <NA> 1 138.008 2.550 <NA> <NA> speaker1 <NA> <NA>\n",
      "SPEAKER <NA> 1 141.708 3.917 <NA> <NA> speaker1 <NA> <NA>\n",
      "SPEAKER <NA> 1 146.275 1.133 <NA> <NA> speaker0 <NA> <NA>\n",
      "SPEAKER <NA> 1 147.508 0.500 <NA> <NA> speaker1 <NA> <NA>\n",
      "SPEAKER <NA> 1 148.008 0.500 <NA> <NA> speaker0 <NA> <NA>\n",
      "SPEAKER <NA> 1 148.508 0.500 <NA> <NA> speaker1 <NA> <NA>\n",
      "SPEAKER <NA> 1 149.008 1.500 <NA> <NA> speaker0 <NA> <NA>\n",
      "SPEAKER <NA> 1 150.508 5.500 <NA> <NA> speaker1 <NA> <NA>\n",
      "SPEAKER <NA> 1 156.325 0.683 <NA> <NA> speaker1 <NA> <NA>\n",
      "SPEAKER <NA> 1 157.608 0.900 <NA> <NA> speaker0 <NA> <NA>\n",
      "SPEAKER <NA> 1 158.508 1.000 <NA> <NA> speaker1 <NA> <NA>\n",
      "SPEAKER <NA> 1 159.825 0.683 <NA> <NA> speaker0 <NA> <NA>\n",
      "SPEAKER <NA> 1 160.508 0.500 <NA> <NA> speaker1 <NA> <NA>\n",
      "SPEAKER <NA> 1 161.008 0.500 <NA> <NA> speaker0 <NA> <NA>\n",
      "SPEAKER <NA> 1 161.508 0.733 <NA> <NA> speaker1 <NA> <NA>\n",
      "SPEAKER <NA> 1 162.508 6.500 <NA> <NA> speaker1 <NA> <NA>\n",
      "SPEAKER <NA> 1 169.042 1.967 <NA> <NA> speaker0 <NA> <NA>\n",
      "SPEAKER <NA> 1 171.008 0.500 <NA> <NA> speaker1 <NA> <NA>\n",
      "SPEAKER <NA> 1 171.508 1.000 <NA> <NA> speaker0 <NA> <NA>\n",
      "SPEAKER <NA> 1 172.508 5.967 <NA> <NA> speaker1 <NA> <NA>\n",
      "SPEAKER <NA> 1 178.975 0.033 <NA> <NA> speaker1 <NA> <NA>\n",
      "SPEAKER <NA> 1 179.008 1.000 <NA> <NA> speaker0 <NA> <NA>\n",
      "SPEAKER <NA> 1 180.592 0.417 <NA> <NA> speaker0 <NA> <NA>\n",
      "SPEAKER <NA> 1 181.008 0.150 <NA> <NA> speaker2 <NA> <NA>\n",
      "SPEAKER <NA> 1 181.558 0.750 <NA> <NA> speaker1 <NA> <NA>\n",
      "SPEAKER <NA> 1 182.875 4.983 <NA> <NA> speaker1 <NA> <NA>\n",
      "SPEAKER <NA> 1 188.375 0.133 <NA> <NA> speaker1 <NA> <NA>\n",
      "SPEAKER <NA> 1 188.508 0.500 <NA> <NA> speaker0 <NA> <NA>\n",
      "SPEAKER <NA> 1 189.008 1.000 <NA> <NA> speaker2 <NA> <NA>\n",
      "SPEAKER <NA> 1 190.008 1.583 <NA> <NA> speaker1 <NA> <NA>\n",
      "SPEAKER <NA> 1 192.475 0.033 <NA> <NA> speaker1 <NA> <NA>\n",
      "SPEAKER <NA> 1 192.508 2.000 <NA> <NA> speaker2 <NA> <NA>\n",
      "SPEAKER <NA> 1 194.508 2.017 <NA> <NA> speaker1 <NA> <NA>\n",
      "SPEAKER <NA> 1 196.525 0.483 <NA> <NA> speaker0 <NA> <NA>\n",
      "SPEAKER <NA> 1 197.008 0.117 <NA> <NA> speaker2 <NA> <NA>\n",
      "SPEAKER <NA> 1 197.575 0.933 <NA> <NA> speaker2 <NA> <NA>\n",
      "SPEAKER <NA> 1 198.508 5.083 <NA> <NA> speaker1 <NA> <NA>\n",
      "SPEAKER <NA> 1 204.058 0.750 <NA> <NA> speaker1 <NA> <NA>\n",
      "SPEAKER <NA> 1 205.075 2.433 <NA> <NA> speaker1 <NA> <NA>\n",
      "SPEAKER <NA> 1 207.775 4.517 <NA> <NA> speaker1 <NA> <NA>\n",
      "SPEAKER <NA> 1 212.692 3.200 <NA> <NA> speaker1 <NA> <NA>\n",
      "SPEAKER <NA> 1 216.308 0.817 <NA> <NA> speaker2 <NA> <NA>\n",
      "SPEAKER <NA> 1 216.475 0.033 <NA> <NA> speaker1 <NA> <NA>\n",
      "SPEAKER <NA> 1 217.508 3.100 <NA> <NA> speaker2 <NA> <NA>\n",
      "SPEAKER <NA> 1 221.325 1.683 <NA> <NA> speaker1 <NA> <NA>\n",
      "SPEAKER <NA> 1 223.008 0.233 <NA> <NA> speaker2 <NA> <NA>\n",
      "SPEAKER <NA> 1 223.508 6.367 <NA> <NA> speaker1 <NA> <NA>\n",
      "SPEAKER <NA> 1 230.258 2.250 <NA> <NA> speaker2 <NA> <NA>\n",
      "SPEAKER <NA> 1 232.508 0.500 <NA> <NA> speaker1 <NA> <NA>\n",
      "SPEAKER <NA> 1 233.008 2.500 <NA> <NA> speaker2 <NA> <NA>\n",
      "SPEAKER <NA> 1 235.625 1.883 <NA> <NA> speaker1 <NA> <NA>\n",
      "SPEAKER <NA> 1 237.508 0.500 <NA> <NA> speaker2 <NA> <NA>\n",
      "SPEAKER <NA> 1 238.008 3.500 <NA> <NA> speaker1 <NA> <NA>\n",
      "SPEAKER <NA> 1 241.758 1.650 <NA> <NA> speaker1 <NA> <NA>\n",
      "SPEAKER <NA> 1 243.842 10.167 <NA> <NA> speaker1 <NA> <NA>\n",
      "SPEAKER <NA> 1 254.008 0.500 <NA> <NA> speaker2 <NA> <NA>\n",
      "\n"
     ]
    }
   ],
   "source": [
    "print(merged_annotation.support(0.25).to_rttm())"
   ]
  },
  {
   "cell_type": "code",
   "execution_count": 9,
   "id": "10bcbd75-6581-44f0-be65-9b2d546f5292",
   "metadata": {},
   "outputs": [
    {
     "name": "stdout",
     "output_type": "stream",
     "text": [
      "[ 00:00:06.508 -->  00:00:07.008] 0 speaker0\n"
     ]
    }
   ],
   "source": [
    "print(annotation)"
   ]
  },
  {
   "cell_type": "code",
   "execution_count": null,
   "id": "d6cf68ff-a498-4d05-bcae-8c480f4fae8f",
   "metadata": {},
   "outputs": [],
   "source": []
  }
 ],
 "metadata": {
  "kernelspec": {
   "display_name": "Python 3 (ipykernel)",
   "language": "python",
   "name": "python3"
  },
  "language_info": {
   "codemirror_mode": {
    "name": "ipython",
    "version": 3
   },
   "file_extension": ".py",
   "mimetype": "text/x-python",
   "name": "python",
   "nbconvert_exporter": "python",
   "pygments_lexer": "ipython3",
   "version": "3.10.12"
  }
 },
 "nbformat": 4,
 "nbformat_minor": 5
}
