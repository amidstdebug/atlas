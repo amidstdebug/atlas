{
 "cells": [
  {
   "cell_type": "code",
   "execution_count": 1,
   "id": "555dd420-bd72-42a7-8cd9-17c855cd9e20",
   "metadata": {},
   "outputs": [],
   "source": [
    "from utils import load_audio"
   ]
  },
  {
   "cell_type": "code",
   "execution_count": 2,
   "id": "1d1b0e6c-ebfd-4793-965c-f12e2116833d",
   "metadata": {},
   "outputs": [],
   "source": [
    "waveform, sample_rate = load_audio('toefl_eg.mp3')"
   ]
  },
  {
   "cell_type": "code",
   "execution_count": 3,
   "id": "4906407b-3b76-4565-925f-757495356465",
   "metadata": {
    "scrolled": true
   },
   "outputs": [
    {
     "name": "stderr",
     "output_type": "stream",
     "text": [
      "/home/raid/miniconda3/envs/nemo/lib/python3.10/site-packages/transformers/utils/generic.py:441: FutureWarning: `torch.utils._pytree._register_pytree_node` is deprecated. Please use `torch.utils._pytree.register_pytree_node` instead.\n",
      "  _torch_pytree._register_pytree_node(\n",
      "INFO:speechbrain.utils.quirks:Applied quirks (see `speechbrain.utils.quirks`): [disable_jit_profiling, allow_tf32]\n",
      "INFO:speechbrain.utils.quirks:Excluded quirks specified by the `SB_DISABLE_QUIRKS` environment (comma-separated list): []\n",
      "INFO:datasets:PyTorch version 2.6.0+cu126 available.\n",
      "[NeMo W 2025-03-03 14:02:32 nemo_logging:361] /home/raid/miniconda3/envs/nemo/lib/python3.10/site-packages/diart/audio.py:8: UserWarning: torchaudio._backend.set_audio_backend has been deprecated. With dispatcher enabled, this function is no-op. You can remove the function call.\n",
      "      torchaudio.set_audio_backend(\"soundfile\")\n",
      "    \n",
      "[NeMo W 2025-03-03 14:02:35 modelPT:176] If you intend to do training or fine-tuning, please call the ModelPT.setup_training_data() method and provide a valid configuration file to setup the train data loader.\n",
      "    Train config : \n",
      "    manifest_filepath: /manifests/combined_fisher_swbd_voxceleb12_librispeech/train.json\n",
      "    sample_rate: 16000\n",
      "    labels: null\n",
      "    batch_size: 64\n",
      "    shuffle: true\n",
      "    is_tarred: false\n",
      "    tarred_audio_filepaths: null\n",
      "    tarred_shard_strategy: scatter\n",
      "    augmentor:\n",
      "      noise:\n",
      "        manifest_path: /manifests/noise/rir_noise_manifest.json\n",
      "        prob: 0.5\n",
      "        min_snr_db: 0\n",
      "        max_snr_db: 15\n",
      "      speed:\n",
      "        prob: 0.5\n",
      "        sr: 16000\n",
      "        resample_type: kaiser_fast\n",
      "        min_speed_rate: 0.95\n",
      "        max_speed_rate: 1.05\n",
      "    num_workers: 15\n",
      "    pin_memory: true\n",
      "    \n",
      "[NeMo W 2025-03-03 14:02:35 modelPT:183] If you intend to do validation, please call the ModelPT.setup_validation_data() or ModelPT.setup_multiple_validation_data() method and provide a valid configuration file to setup the validation data loader(s). \n",
      "    Validation config : \n",
      "    manifest_filepath: /manifests/combined_fisher_swbd_voxceleb12_librispeech/dev.json\n",
      "    sample_rate: 16000\n",
      "    labels: null\n",
      "    batch_size: 128\n",
      "    shuffle: false\n",
      "    num_workers: 15\n",
      "    pin_memory: true\n",
      "    \n"
     ]
    },
    {
     "name": "stdout",
     "output_type": "stream",
     "text": [
      "[NeMo I 2025-03-03 14:02:35 features:305] PADDING: 16\n",
      "[NeMo I 2025-03-03 14:02:36 save_restore_connector:275] Model EncDecSpeakerLabelModel was successfully restored from /home/raid/.cache/huggingface/hub/models--nvidia--speakerverification_en_titanet_large/snapshots/0dc382f40121a5fbd34db10a2bb04d826c2be6a8/speakerverification_en_titanet_large.nemo.\n"
     ]
    }
   ],
   "source": [
    "from diart_pipeline import OnlinePipeline, OnlinePipelineConfig\n",
    "pipe_config = OnlinePipelineConfig()\n",
    "pipe = OnlinePipeline(pipe_config)"
   ]
  },
  {
   "cell_type": "code",
   "execution_count": 4,
   "id": "3b2f1521-b515-4d7d-a47a-edd57c0d6f64",
   "metadata": {},
   "outputs": [
    {
     "data": {
      "image/png": "[encoded data removed]",
      "text/plain": [
       "<pyannote.core.annotation.Annotation at 0x7fd466df2860>"
      ]
     },
     "execution_count": 4,
     "metadata": {},
     "output_type": "execute_result"
    }
   ],
   "source": [
    "pipe(waveform.permute(1, 0).numpy()[:10*16000])"
   ]
  },
  {
   "cell_type": "code",
   "execution_count": null,
   "id": "29d1e1ad-fe58-48ea-b126-881b04c17036",
   "metadata": {},
   "outputs": [
    {
     "name": "stderr",
     "output_type": "stream",
     "text": [
      "INFO:faster_whisper:Processing audio with duration 00:09.500\n"
     ]
    }
   ],
   "source": [
    "pipe.transcribe()"
   ]
  },
  {
   "cell_type": "code",
   "execution_count": null,
   "id": "a9cdbbbb-cbbb-44c2-b073-e2b4494893ae",
   "metadata": {},
   "outputs": [],
   "source": [
    "pipe._transcriptions"
   ]
  },
  {
   "cell_type": "code",
   "execution_count": 7,
   "id": "21c308de-e0dd-4356-b908-408043f2cb3d",
   "metadata": {},
   "outputs": [],
   "source": [
    "anno = pipe(waveform.permute(1, 0).numpy()[10*16000:20*16000])"
   ]
  },
  {
   "cell_type": "code",
   "execution_count": 10,
   "id": "a2d25379-9a56-4f96-a87a-083e4b7c3183",
   "metadata": {},
   "outputs": [],
   "source": [
    "anno = pipe(waveform.permute(1, 0).numpy()[20*16000:30*16000])"
   ]
  },
  {
   "cell_type": "code",
   "execution_count": 13,
   "id": "455f7989-4efa-4121-82be-0b1b3f0597fe",
   "metadata": {},
   "outputs": [],
   "source": [
    "anno = pipe(waveform.permute(1, 0).numpy()[30*16000:40*16000])"
   ]
  },
  {
   "cell_type": "code",
   "execution_count": 14,
   "id": "1878b5fd-58a6-4248-b6a9-8499b3dcf328",
   "metadata": {},
   "outputs": [],
   "source": [
    "anno = pipe(waveform.permute(1, 0).numpy()[40*16000:50*16000])"
   ]
  },
  {
   "cell_type": "code",
   "execution_count": 31,
   "id": "e9e5c190-1267-477a-8c42-ec3a6f8571f3",
   "metadata": {},
   "outputs": [],
   "source": [
    "anno = pipe.get_annotation()"
   ]
  },
  {
   "cell_type": "code",
   "execution_count": 32,
   "id": "770c5a8c-ce2d-436a-90a3-ec6d9a394839",
   "metadata": {},
   "outputs": [
    {
     "name": "stdout",
     "output_type": "stream",
     "text": [
      "[ 00:00:00.008 -->  00:00:09.508] A speaker0\n"
     ]
    }
   ],
   "source": [
    "print(anno)"
   ]
  },
  {
   "cell_type": "code",
   "execution_count": 33,
   "id": "8a2c6dbb-a303-4386-8db0-b93b0e0e3e59",
   "metadata": {},
   "outputs": [
    {
     "name": "stdout",
     "output_type": "stream",
     "text": [
      "[ 00:00:00.008 -->  00:00:09.508] A speaker0\n",
      "9.508333333333333\n"
     ]
    }
   ],
   "source": [
    "\n",
    "for segment, track, label in anno.itertracks(yield_label=True):\n",
    "    print(segment, track, label)\n",
    "    print(segment.end)\n",
    "    # Check if this segment overlaps with our \"new\" section\n",
    "    # segment_overlap = segment & new_segment\n",
    "    # merged_annotation[segment_overlap, track] = label"
   ]
  },
  {
   "cell_type": "code",
   "execution_count": 35,
   "id": "4a98e023-239a-4f15-951e-34bedf3cae5c",
   "metadata": {},
   "outputs": [
    {
     "data": {
      "text/plain": [
       "False"
      ]
     },
     "execution_count": 35,
     "metadata": {},
     "output_type": "execute_result"
    }
   ],
   "source": [
    "anno.has_track(segment, track)"
   ]
  },
  {
   "cell_type": "code",
   "execution_count": 38,
   "id": "217ac544-2bbb-4f50-a914-722657b542e1",
   "metadata": {},
   "outputs": [
    {
     "name": "stdout",
     "output_type": "stream",
     "text": [
      "[ 00:00:00.008 -->  00:00:09.508]\n"
     ]
    }
   ],
   "source": [
    "print(segment)"
   ]
  },
  {
   "cell_type": "code",
   "execution_count": 39,
   "id": "7ac6c1de-f1f0-4bdc-ae5e-b549079da770",
   "metadata": {},
   "outputs": [
    {
     "name": "stdout",
     "output_type": "stream",
     "text": [
      "[ 00:00:00.008 -->  00:00:17.508] A speaker0\n",
      "[ 00:00:18.258 -->  00:00:19.508] B speaker0\n"
     ]
    }
   ],
   "source": [
    "print(anno)"
   ]
  },
  {
   "cell_type": "code",
   "execution_count": 25,
   "id": "1b18f582-71fd-4a00-b38d-282caf8c29b2",
   "metadata": {},
   "outputs": [
    {
     "data": {
      "text/plain": [
       "True"
      ]
     },
     "execution_count": 25,
     "metadata": {},
     "output_type": "execute_result"
    }
   ],
   "source": [
    "anno.has_track(segment, 'C')"
   ]
  },
  {
   "cell_type": "code",
   "execution_count": 26,
   "id": "9b7f6079-0095-4102-b522-3f8315e6a64f",
   "metadata": {},
   "outputs": [
    {
     "data": {
      "text/plain": [
       "'speaker0'"
      ]
     },
     "execution_count": 26,
     "metadata": {},
     "output_type": "execute_result"
    }
   ],
   "source": [
    "anno[segment, 'C']"
   ]
  },
  {
   "cell_type": "code",
   "execution_count": 23,
   "id": "3093aa70-70ae-4053-ba9f-6926eda0069b",
   "metadata": {},
   "outputs": [
    {
     "data": {
      "text/plain": [
       "SortedDict({<Segment(0.00853242, 17.5083)>: {'A': 'speaker0'}, <Segment(18.2583, 35.2917)>: {'B': 'speaker0'}, <Segment(35.925, 39.5083)>: {'C': 'speaker0'}})"
      ]
     },
     "execution_count": 23,
     "metadata": {},
     "output_type": "execute_result"
    }
   ],
   "source": [
    "anno._tracks"
   ]
  },
  {
   "cell_type": "code",
   "execution_count": null,
   "id": "27e12fd9-3b1a-4849-8cb0-ef345b760246",
   "metadata": {},
   "outputs": [],
   "source": []
  }
 ],
 "metadata": {
  "kernelspec": {
   "display_name": "Python 3 (ipykernel)",
   "language": "python",
   "name": "python3"
  },
  "language_info": {
   "codemirror_mode": {
    "name": "ipython",
    "version": 3
   },
   "file_extension": ".py",
   "mimetype": "text/x-python",
   "name": "python",
   "nbconvert_exporter": "python",
   "pygments_lexer": "ipython3",
   "version": "3.10.12"
  }
 },
 "nbformat": 4,
 "nbformat_minor": 5
}
