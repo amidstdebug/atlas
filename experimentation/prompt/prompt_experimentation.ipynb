{
 "cells": [
  {
   "cell_type": "markdown",
   "source": [
    "# Experimenting with Prompts\n",
    "\n",
    "We will try experimenting with prompts for the following types of models:\n",
    "1. Vanilla whisper\n",
    "2. HF whisper\n",
    "3. Whisper C++\n",
    "4. faster-whisper\n"
   ],
   "metadata": {
    "collapsed": false
   },
   "id": "a8165a06c7439397"
  },
  {
   "cell_type": "code",
   "outputs": [
    {
     "name": "stderr",
     "output_type": "stream",
     "text": [
      "100%|█████████████████████████████████████| 1.51G/1.51G [01:12<00:00, 22.2MiB/s]\n"
     ]
    }
   ],
   "source": [
    "import whisper\n",
    "\n",
    "model = whisper.load_model(\"turbo\")"
   ],
   "metadata": {
    "collapsed": false,
    "ExecuteTime": {
     "end_time": "2025-04-22T13:32:27.460870Z",
     "start_time": "2025-04-22T13:30:53.396577Z"
    }
   },
   "id": "c5f0ebc637519fa8",
   "execution_count": 1
  },
  {
   "cell_type": "code",
   "outputs": [
    {
     "name": "stderr",
     "output_type": "stream",
     "text": [
      "/opt/miniconda3/envs/atlas/lib/python3.13/site-packages/whisper/transcribe.py:132: UserWarning: FP16 is not supported on CPU; using FP32 instead\n",
      "  warnings.warn(\"FP16 is not supported on CPU; using FP32 instead\")\n",
      "/opt/miniconda3/envs/atlas/lib/python3.13/site-packages/whisper/transcribe.py:132: UserWarning: FP16 is not supported on CPU; using FP32 instead\n",
      "  warnings.warn(\"FP16 is not supported on CPU; using FP32 instead\")\n"
     ]
    },
    {
     "name": "stdout",
     "output_type": "stream",
     "text": [
      " Singapore 638, can we stop here for the moment? Singapore 638, second please Singapore 638, we like to stop here at the moment Singapore 638, okay, hold the foot short Okay, holding short, now I'm stopping here now, Singapore 638, thank you Singapore 638, any smoke coming out from our tyres? I reject your standby Thank you Tower, good morning VJ822, 3 miles, 16 left BJ822, Narita Tower, runway 16 left closed 22 runway inspection Go around, execute missed approach, climb and maintain, 3 times Copy, 3000, go around VJ822 Tower VJ822, climbing to 3000, missed approach, 16 left VJ822, correct, missed approach, maintain 3000 Copy, maintain 3000, VJ822 Singapore 638, enter Singapore 638, go ahead Singapore 638, hold present position, vehicle will check your landing gear from your forward Roger, Singapore 638, hold present position Roger, Singapore 638, hold present position VJ822, contact Tokyo departure, 124.2 124.2, confirm VJ822 Correct, 124.2 for further instruction Copy, 124.2, VJ822 LO' 3ouleh Singapore 638,ющ dk3,12 to obstruct position EG613, toi SRV%,1s direct return lap Don't interrupt, that's right след for Lint Vehicle checking India situation, they said your left engine, your left engine and some smoke comes out from your left engine at the moment. So I repeat, you say smoke coming out from left engine confirm, Singapore 638? Singapore 638, correct. Is there any smoke coming out from the wheels, Singapore 638? Singapore 638, go ahead. Ground personnel said smoke comes out from your left engine, so smoke doesn't come out from landing gear. Okay, thank you so much, Singapore 638, stand by for attention. Roger. Singapore 638, go ahead, Singapore 638. Fire vehicle is approaching you from your behind and shut down your engine free. We're crossing up on 6 feet. Well, if night or not. You could have Stellar for dreaten's heart,� it's burning, right? I'd say, Diamond National doctor 639, come into the air to 3rd cast. Whatever wrong cause, it turns out what we are using?\n",
      " Singapore 638 can we stop here for the moment? Singapore 638 second please Singapore 638 we like to stop here at the moment Singapore 638 okay hold the position Okay holding short now I'm stopping here now Singapore 638 thank you Singapore 638 any smoke coming out from our tyres? I reject your standby Thank you Tower good morning VJ822 3 miles 16 left BJ822 Narita Tower runway 16 left close 22 runway inspection go around execute missed approach climb and maintain 3 times Copy 3000 go around VJ822 Tower VJ822 climbing to 3000 missed approach 16 left BJ822 correct miss approach Maintain 3000 Copy maintain 3000 VJ822 SINGAPOR 6 later SINGAPOR 638 go ahead SINGAPOR 638 hold present position vehicle will check your landing gear from your forward Roger SINGAPOR 638 holding position BJ822 contact TOKYO DEPANCHER 124.2 BJ822 contact TOKYO DEPANCHER 124.2 124.2 124.2 confirm VJ822 Correct 124.2 for further instruction Copy say 124.2 VJ822 SINGAPOR 638 SINGAPOR 638 go ahead Vehicle check your landing gear from your behind so keep your engine thrust at idle Do not apply any power Vehicle vehicle engine thrust is at idle now thank you SINGAPOR 638 Thank you SINGAPOR 638 SINGAPOR 638 go ahead Vehicle checking India situation and they said your left engine your left engine and some smoke comes out on your from your left engine at the moment So I repeat you say smoke coming out from left engine confirm SINGAPOR 638 SINGAPOR 638 correct Is there any smoke coming out from the wheels SINGAPOR 638? SINGAPOR 638 correct SINGAPOR 638 go ahead Granted personnel said smoke comes out from your left engine so smoke doesn't come out from landing gear OK thank you so much SINGAPOR 638 standby for extension Roger SINGAPOR 638 correct Go ahead SINGAPOR 638 Fire vehicle is approaching you from your behind and shut down your engine free We'll go SINGAPOR 638 SINGAPOR 638\n"
     ]
    }
   ],
   "source": [
    "result_base = model.transcribe(\"./atc_test.mp3\",language=\"english\")\n",
    "\n",
    "general = ['Air Traffic Control communications', '1', '2', '3', '4', '5', '6', '7', '8', '9', '0', '90', '180', '270',\n",
    "           '360']\n",
    "nato = ['Alpha', 'Bravo', 'Charlie', 'Delta', 'Echo', 'Foxtrot', 'Golf', 'Hotel', 'India', 'Juliett', 'Kilo', 'Lima',\n",
    "        'Mike', 'November', 'Oscar', 'Papa', 'Quebec', 'Romeo', 'Sierra', 'Tango', 'Uniform', 'Victor', 'Whiskey',\n",
    "        'Xray', 'Yankee', 'Zulu']\n",
    "relevant_atc_phrases = [\n",
    "    \"hold short\",\n",
    "    \"hold position\",\n",
    "    \"standby\",\n",
    "    \"go-ahead\",\n",
    "    \"go around\",\n",
    "    \"missed approach\",\n",
    "    \"climb to\",\n",
    "    \"maintain\",\n",
    "    \"contact\",\n",
    "    \"departure\",\n",
    "    \"frequency\",\n",
    "    \"tower\",\n",
    "    \"runway\",\n",
    "    \"ground\",\n",
    "    \"roger\",\n",
    "    \"readback\",\n",
    "    \"position\",\n",
    "    \"report\",\n",
    "    \"information\",\n",
    "    \"altitude\",\n",
    "]\n",
    "\n",
    "\n",
    "collated_list = general + nato + relevant_atc_phrases\n",
    "collated_list_string = ' '.join(collated_list)\n",
    "\n",
    "result_prompt = model.transcribe(\"./atc_test.mp3\", initial_prompt=collated_list_string, language=\"english\")\n",
    "print(result_base[\"text\"])\n",
    "print(result_prompt['text'])"
   ],
   "metadata": {
    "collapsed": false,
    "ExecuteTime": {
     "end_time": "2025-04-22T13:57:14.210986Z",
     "start_time": "2025-04-22T13:54:33.053546Z"
    }
   },
   "id": "7e43be8d799ff803",
   "execution_count": 10
  },
  {
   "cell_type": "code",
   "outputs": [
    {
     "name": "stdout",
     "output_type": "stream",
     "text": [
      " Singapore 638, can we stop here for the moment? Singapore 638, second please Singapore 638, we like to stop here at the moment Singapore 638, okay, hold the foot short Okay, holding short, now I'm stopping here now, Singapore 638, thank you Singapore 638, any smoke coming out from our tyres? I reject your standby Thank you Tower, good morning VJ822, 3 miles, 16 left BJ822, Narita Tower, runway 16 left closed 22 runway inspection Go around, execute missed approach, climb and maintain, 3 times Copy, 3000, go around VJ822 Tower VJ822, climbing to 3000, missed approach, 16 left VJ822, correct, missed approach, maintain 3000 Copy, maintain 3000, VJ822 Singapore 638, enter Singapore 638, go ahead Singapore 638, hold present position, vehicle will check your landing gear from your forward Roger, Singapore 638, hold present position Roger, Singapore 638, hold present position VJ822, contact Tokyo departure, 124.2 124.2, confirm VJ822 Correct, 124.2 for further instruction Copy, 124.2, VJ822 LO' 3ouleh Singapore 638,ющ dk3,12 to obstruct position EG613, toi SRV%,1s direct return lap Don't interrupt, that's right след for Lint Vehicle checking India situation, they said your left engine, your left engine and some smoke comes out from your left engine at the moment. So I repeat, you say smoke coming out from left engine confirm, Singapore 638? Singapore 638, correct. Is there any smoke coming out from the wheels, Singapore 638? Singapore 638, go ahead. Ground personnel said smoke comes out from your left engine, so smoke doesn't come out from landing gear. Okay, thank you so much, Singapore 638, stand by for attention. Roger. Singapore 638, go ahead, Singapore 638. Fire vehicle is approaching you from your behind and shut down your engine free. We're crossing up on 6 feet. Well, if night or not. You could have Stellar for dreaten's heart,� it's burning, right? I'd say, Diamond National doctor 639, come into the air to 3rd cast. Whatever wrong cause, it turns out what we are using?\n"
     ]
    }
   ],
   "source": [
    "print(result_base[\"text\"])\n"
   ],
   "metadata": {
    "collapsed": false,
    "ExecuteTime": {
     "end_time": "2025-04-22T13:57:14.216127Z",
     "start_time": "2025-04-22T13:57:14.213344Z"
    }
   },
   "id": "4c0af53d9b6070d2",
   "execution_count": 11
  },
  {
   "cell_type": "code",
   "outputs": [
    {
     "name": "stdout",
     "output_type": "stream",
     "text": [
      " Singapore 638 can we stop here for the moment? Singapore 638 second please Singapore 638 we like to stop here at the moment Singapore 638 okay hold the position Okay holding short now I'm stopping here now Singapore 638 thank you Singapore 638 any smoke coming out from our tyres? I reject your standby Thank you Tower good morning VJ822 3 miles 16 left BJ822 Narita Tower runway 16 left close 22 runway inspection go around execute missed approach climb and maintain 3 times Copy 3000 go around VJ822 Tower VJ822 climbing to 3000 missed approach 16 left BJ822 correct miss approach Maintain 3000 Copy maintain 3000 VJ822 SINGAPOR 6 later SINGAPOR 638 go ahead SINGAPOR 638 hold present position vehicle will check your landing gear from your forward Roger SINGAPOR 638 holding position BJ822 contact TOKYO DEPANCHER 124.2 BJ822 contact TOKYO DEPANCHER 124.2 124.2 124.2 confirm VJ822 Correct 124.2 for further instruction Copy say 124.2 VJ822 SINGAPOR 638 SINGAPOR 638 go ahead Vehicle check your landing gear from your behind so keep your engine thrust at idle Do not apply any power Vehicle vehicle engine thrust is at idle now thank you SINGAPOR 638 Thank you SINGAPOR 638 SINGAPOR 638 go ahead Vehicle checking India situation and they said your left engine your left engine and some smoke comes out on your from your left engine at the moment So I repeat you say smoke coming out from left engine confirm SINGAPOR 638 SINGAPOR 638 correct Is there any smoke coming out from the wheels SINGAPOR 638? SINGAPOR 638 correct SINGAPOR 638 go ahead Granted personnel said smoke comes out from your left engine so smoke doesn't come out from landing gear OK thank you so much SINGAPOR 638 standby for extension Roger SINGAPOR 638 correct Go ahead SINGAPOR 638 Fire vehicle is approaching you from your behind and shut down your engine free We'll go SINGAPOR 638 SINGAPOR 638\n"
     ]
    }
   ],
   "source": [
    "print(result_prompt['text'])\n"
   ],
   "metadata": {
    "collapsed": false,
    "ExecuteTime": {
     "end_time": "2025-04-22T13:57:14.219580Z",
     "start_time": "2025-04-22T13:57:14.216863Z"
    }
   },
   "id": "94e121762a731904",
   "execution_count": 12
  },
  {
   "cell_type": "code",
   "outputs": [
    {
     "name": "stdout",
     "output_type": "stream",
     "text": [
      "singapore six three eight can we stop here for a moment singapore six three eight say again please singapore six three eight wed like to stop here stop here at the moment singapore six three eight okay hold double short okay holding short now stopping here now singapore six three eight singapore six three eight any smoke coming out from our tyres i will check standby tower good morning vietjet eight two two three miles one six left vietjet eight two two narita tower runway one six left closed due to runway inspection go around execute missed approach climb and maintain three zero zero zero copy three zero zero zero go around vietjet eight two two tower vietjet eight two two climbing to three zero zero zero missed approach one six left vietjet eight two two correct missed approach maintain three zero zero zero copy maintain three zero zero zero vietjet eight two two singapore six three eight tower singapore six three eight go ahead singapore six three eight hold present position vehicle will check your landing gear from your forward roger singapore six three eight holding position vietjet eight two two contact tokyo departure one two fourtwo one two fourtwo confirm vietjet eight two two correct one two fourtwo for further instruction copy sir one two fourtwo vietjet eight two two singapore six three eight tower singapore six three eight go ahead vehicle check your landing gear landing gear from your behind keep your engine thrust at idle do not apply any power wilco wilco engine thrust is at idle now thank you singapore six three eight thank you singapore six three eight tower singapore six three eight go ahead vehicle checking into your station update that your left engine your left engine and some smoke comes out from your left engine at the moment sorry i repeat you say smoke coming out left engine confirm singapore six three eight singapore six three eight correct is there any smoke coming out from the wheels singapore six three eight singapore six three eight tower singapore six three eight go ahead ground staff said that smoke comes out from your left engine so smoke doesnt come out from landing gear okay thank you so much singapore six three eight standby for intention roger singapore six three eight tower go ahead singapore six three eight fire vehicle is approaching you from your behind can shut down your engine please wilco singapore six three eight\n"
     ]
    }
   ],
   "source": [
    "import re\n",
    "from num2words import num2words\n",
    "\n",
    "def load_text(file_path):\n",
    "    \"\"\"Load text from a file and return it as a string.\"\"\"\n",
    "    with open(file_path, 'r', encoding='utf-8') as f:\n",
    "        return f.read()\n",
    "\n",
    "def normalize_text(text):\n",
    "    \"\"\"Normalize the text: lowercase, remove punctuation, convert numbers, flatten whitespace.\"\"\"\n",
    "    \n",
    "    # Lowercase\n",
    "    text = text.lower()\n",
    "\n",
    "    # Function to replace digit sequences with spelled-out words (digit by digit)\n",
    "    def replace_digits(match):\n",
    "        digits = match.group()\n",
    "        return ' '.join(num2words(int(d)).replace('-', ' ') for d in digits)\n",
    "\n",
    "    # Replace all digit sequences, even inside alphanumeric words\n",
    "    text = re.sub(r'\\d+', replace_digits, text)\n",
    "\n",
    "    # Remove punctuation\n",
    "    text = re.sub(r'[^\\w\\s]', '', text)\n",
    "\n",
    "    # Normalize whitespace and flatten to one line\n",
    "    text = ' '.join(text.split())\n",
    "\n",
    "    return text\n",
    "\n",
    "\n",
    "raw_text = load_text('./ground_truth.txt')\n",
    "ground_truth = normalize_text(raw_text)\n",
    "print(ground_truth)\n"
   ],
   "metadata": {
    "collapsed": false,
    "ExecuteTime": {
     "end_time": "2025-04-22T14:24:30.149925Z",
     "start_time": "2025-04-22T14:24:30.141154Z"
    }
   },
   "id": "d9d3eff20acc4a28",
   "execution_count": 25
  },
  {
   "cell_type": "code",
   "outputs": [
    {
     "name": "stdout",
     "output_type": "stream",
     "text": [
      "base:\n",
      " singapore six three eight can we stop here for the moment singapore six three eight second please singapore six three eight we like to stop here at the moment singapore six three eight okay hold the foot short okay holding short now im stopping here now singapore six three eight thank you singapore six three eight any smoke coming out from our tyres i reject your standby thank you tower good morning vjeight two two three miles one six left bjeight two two narita tower runway one six left closed two two runway inspection go around execute missed approach climb and maintain three times copy three zero zero zero go around vjeight two two tower vjeight two two climbing to three zero zero zero missed approach one six left vjeight two two correct missed approach maintain three zero zero zero copy maintain three zero zero zero vjeight two two singapore six three eight enter singapore six three eight go ahead singapore six three eight hold present position vehicle will check your landing gear from your forward roger singapore six three eight hold present position roger singapore six three eight hold present position vjeight two two contact tokyo departure one two fourtwo one two fourtwo confirm vjeight two two correct one two fourtwo for further instruction copy one two fourtwo vjeight two two lo threeouleh singapore six three eightющ dkthreeone two to obstruct position egsix one three toi srvones direct return lap dont interrupt thats right след for lint vehicle checking india situation they said your left engine your left engine and some smoke comes out from your left engine at the moment so i repeat you say smoke coming out from left engine confirm singapore six three eight singapore six three eight correct is there any smoke coming out from the wheels singapore six three eight singapore six three eight go ahead ground personnel said smoke comes out from your left engine so smoke doesnt come out from landing gear okay thank you so much singapore six three eight stand by for attention roger singapore six three eight go ahead singapore six three eight fire vehicle is approaching you from your behind and shut down your engine free were crossing up on six feet well if night or not you could have stellar for dreatens heart its burning right id say diamond national doctor six three nine come into the air to threerd cast whatever wrong cause it turns out what we are using\n",
      "prompt:\n",
      " singaporee six three eight can we stop here for the moment singaporee six three eight second please singaporee six three eight we like to stop here at the moment singaporee six three eight okay hold the position okay holding short now im stopping here now singaporee six three eight thank you singaporee six three eight any smoke coming out from our tyres i reject your standby thank you tower good morning vjeight two two three miles one six left bjeight two two narita tower runway one six left close two two runway inspection go around execute missed approach climb and maintain three times copy three zero zero zero go around vjeight two two tower vjeight two two climbing to three zero zero zero missed approach one six left bjeight two two correct miss approach maintain three zero zero zero copy maintain three zero zero zero vjeight two two singapore six later singapore six three eight go ahead singapore six three eight hold present position vehicle will check your landing gear from your forward roger singapore six three eight holding position bjeight two two contact tokyo depancher one two fourtwo bjeight two two contact tokyo depancher one two fourtwo one two fourtwo one two fourtwo confirm vjeight two two correct one two fourtwo for further instruction copy say one two fourtwo vjeight two two singapore six three eight singapore six three eight go ahead vehicle check your landing gear from your behind so keep your engine thrust at idle do not apply any power vehicle vehicle engine thrust is at idle now thank you singapore six three eight thank you singapore six three eight singapore six three eight go ahead vehicle checking india situation and they said your left engine your left engine and some smoke comes out on your from your left engine at the moment so i repeat you say smoke coming out from left engine confirm singapore six three eight singapore six three eight correct is there any smoke coming out from the wheels singapore six three eight singapore six three eight correct singapore six three eight go ahead granted personnel said smoke comes out from your left engine so smoke doesnt come out from landing gear ok thank you so much singapore six three eight standby for extension roger singapore six three eight correct go ahead singapore six three eight fire vehicle is approaching you from your behind and shut down your engine free well go singapore six three eight singapore six three eight\n"
     ]
    }
   ],
   "source": [
    "result_base_text = normalize_text(result_base[\"text\"])\n",
    "result_prompt_text = normalize_text(result_prompt[\"text\"]).replace('singapor', 'singapore')\n",
    "\n",
    "print('base:\\n',result_base_text)\n",
    "print('prompt:\\n',result_prompt_text)"
   ],
   "metadata": {
    "collapsed": false,
    "ExecuteTime": {
     "end_time": "2025-04-22T14:24:31.624774Z",
     "start_time": "2025-04-22T14:24:31.619048Z"
    }
   },
   "id": "4b230de2db398c7d",
   "execution_count": 26
  },
  {
   "cell_type": "code",
   "outputs": [
    {
     "name": "stdout",
     "output_type": "stream",
     "text": [
      "Accuracy (Base Model): 59.47%\n",
      "Accuracy (Prompted Model): 77.43%\n"
     ]
    }
   ],
   "source": [
    "from jiwer import wer\n",
    "\n",
    "# Calculate WER for both base and prompt outputs\n",
    "wer_base = wer(ground_truth, result_base_text)\n",
    "wer_prompt = wer(ground_truth, result_prompt_text)\n",
    "\n",
    "# print(f\"WER (Base Model): {wer_base:.2%}\")\n",
    "# print(f\"WER (Prompted Model): {wer_prompt:.2%}\")\n",
    "\n",
    "print(f\"Accuracy (Base Model): {(1-wer_base):.2%}\")\n",
    "print(f\"Accuracy (Prompted Model): {(1-wer_prompt):.2%}\")\n"
   ],
   "metadata": {
    "collapsed": false,
    "ExecuteTime": {
     "end_time": "2025-04-22T14:34:55.664070Z",
     "start_time": "2025-04-22T14:34:55.660083Z"
    }
   },
   "id": "6be48d7e8f31f7a9",
   "execution_count": 50
  }
 ],
 "metadata": {
  "kernelspec": {
   "display_name": "Python 3",
   "language": "python",
   "name": "python3"
  },
  "language_info": {
   "codemirror_mode": {
    "name": "ipython",
    "version": 2
   },
   "file_extension": ".py",
   "mimetype": "text/x-python",
   "name": "python",
   "nbconvert_exporter": "python",
   "pygments_lexer": "ipython2",
   "version": "2.7.6"
  }
 },
 "nbformat": 4,
 "nbformat_minor": 5
}
